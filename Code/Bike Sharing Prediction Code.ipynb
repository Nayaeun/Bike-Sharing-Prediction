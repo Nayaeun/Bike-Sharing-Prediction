{
 "cells": [
  {
   "cell_type": "code",
   "execution_count": 1,
   "metadata": {},
   "outputs": [],
   "source": [
    "import numpy as np \n",
    "import pandas as pd \n",
    "import matplotlib.pyplot as plt\n",
    "import seaborn as sns"
   ]
  },
  {
   "cell_type": "markdown",
   "metadata": {},
   "source": [
    "# Introduction\n",
    "Currently Rental bikes are introduced in many urban cities for the enhancement of mobility comfort. It is important to make the rental bike available and accessible to the public at the right time as it lessens the waiting time. Eventually, providing the city with a stable supply of rental bikes becomes a major concern. The crucial part is the prediction of bike count required at each hour for the stable supply of rental bikes."
   ]
  },
  {
   "cell_type": "markdown",
   "metadata": {},
   "source": [
    "# 1. About Dataset"
   ]
  },
  {
   "cell_type": "markdown",
   "metadata": {},
   "source": [
    "The dataset contains weather information (Temperature, Humidity, Windspeed, Visibility, Dewpoint, Solar radiation, Snowfall, Rainfall), the number of bikes rented per hour and date information.\n",
    "1. Date - year-month-day\n",
    "2. Rented Bike count - Count of bikes rented at each hour (Target Variable)\n",
    "3. Hour - Hour of the day\n",
    "4. Temperature - temperature in Celsius\n",
    "5. Humidity - relative humidity (%)\n",
    "6. Windspeed - wind speed (m/s)\n",
    "7. Visibility - 10m\n",
    "8. Dew point temperature - Celsius\n",
    "9. Solar radiation - MJ/m2\n",
    "10. Rainfall - mm\n",
    "11. Snowfall - cm\n",
    "12. Seasons - Winter, Spring, Summer, Autumn\n",
    "13. Holiday - Holiday/No holiday\n",
    "14. Functional Day - NoFunc(Non Functional Hours), Fun(Functional hours)"
   ]
  },
  {
   "cell_type": "code",
   "execution_count": null,
   "metadata": {},
   "outputs": [],
   "source": [
    "url = \n",
    "df = pd.read_csv(\"SeoulBikeData.csv\", encoding= 'unicode_escape')\n",
    "\n",
    "df.columns = ['Date', 'BikeCount', 'Hour', 'Temp', 'Humid', 'WindSpeed', 'Visibility', \n",
    "              'DewPTemp', 'SolarRad', 'Rainfall', 'Snowfall', 'Season', 'Holiday', 'Functioning']"
   ]
  },
  {
   "cell_type": "markdown",
   "metadata": {},
   "source": [
    "# 2. About Features"
   ]
  },
  {
   "cell_type": "markdown",
   "metadata": {},
   "source": [
    "# 3. EDA"
   ]
  },
  {
   "cell_type": "markdown",
   "metadata": {},
   "source": [
    "# 4. Data Cleaning"
   ]
  },
  {
   "cell_type": "markdown",
   "metadata": {},
   "source": [
    "# 5. Feature Engineering"
   ]
  },
  {
   "cell_type": "markdown",
   "metadata": {},
   "source": [
    "# 6. Modeling"
   ]
  },
  {
   "cell_type": "markdown",
   "metadata": {},
   "source": []
  }
 ],
 "metadata": {
  "kernelspec": {
   "display_name": "base",
   "language": "python",
   "name": "python3"
  },
  "language_info": {
   "codemirror_mode": {
    "name": "ipython",
    "version": 3
   },
   "file_extension": ".py",
   "mimetype": "text/x-python",
   "name": "python",
   "nbconvert_exporter": "python",
   "pygments_lexer": "ipython3",
   "version": "3.11.5"
  }
 },
 "nbformat": 4,
 "nbformat_minor": 2
}
